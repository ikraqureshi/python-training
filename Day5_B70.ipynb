{
 "cells": [
  {
   "cell_type": "code",
   "execution_count": 1,
   "id": "cc112c86",
   "metadata": {},
   "outputs": [
    {
     "ename": "SyntaxError",
     "evalue": "invalid syntax (2037412853.py, line 1)",
     "output_type": "error",
     "traceback": [
      "\u001b[1;36m  Input \u001b[1;32mIn [1]\u001b[1;36m\u001b[0m\n\u001b[1;33m    Introduction to list datatype:------------------->\u001b[0m\n\u001b[1;37m                 ^\u001b[0m\n\u001b[1;31mSyntaxError\u001b[0m\u001b[1;31m:\u001b[0m invalid syntax\n"
     ]
    }
   ],
   "source": [
    "Introduction to list datatype:------------------->\n"
   ]
  },
  {
   "cell_type": "code",
   "execution_count": 17,
   "id": "2b5c4a7c",
   "metadata": {},
   "outputs": [],
   "source": [
    "students = ['ravi','naveen','joseph','abdul','kavitha','roohi']"
   ]
  },
  {
   "cell_type": "code",
   "execution_count": 18,
   "id": "8ed78180",
   "metadata": {},
   "outputs": [
    {
     "name": "stdout",
     "output_type": "stream",
     "text": [
      "['ravi', 'naveen', 'joseph', 'abdul', 'kavitha', 'roohi']\n"
     ]
    }
   ],
   "source": [
    "print(students)"
   ]
  },
  {
   "cell_type": "code",
   "execution_count": 5,
   "id": "949e3e0a",
   "metadata": {},
   "outputs": [],
   "source": [
    "#how to access the elements from the above list.....?"
   ]
  },
  {
   "cell_type": "code",
   "execution_count": null,
   "id": "993ee484",
   "metadata": {},
   "outputs": [],
   "source": []
  },
  {
   "cell_type": "code",
   "execution_count": 7,
   "id": "eef5f19d",
   "metadata": {},
   "outputs": [],
   "source": [
    "#understanding the concept of indexing? 0,1,2,3,4..........."
   ]
  },
  {
   "cell_type": "raw",
   "id": "623d25e8",
   "metadata": {},
   "source": [
    "#req : I want to access naveen name in the output......"
   ]
  },
  {
   "cell_type": "code",
   "execution_count": 19,
   "id": "b94f0d9f",
   "metadata": {},
   "outputs": [
    {
     "name": "stdout",
     "output_type": "stream",
     "text": [
      "naveen\n"
     ]
    }
   ],
   "source": [
    "print(students[1])"
   ]
  },
  {
   "cell_type": "code",
   "execution_count": 20,
   "id": "6bc25d7d",
   "metadata": {},
   "outputs": [
    {
     "name": "stdout",
     "output_type": "stream",
     "text": [
      "Naveen\n"
     ]
    }
   ],
   "source": [
    "print(students[1].title())"
   ]
  },
  {
   "cell_type": "code",
   "execution_count": 11,
   "id": "7a05caf9",
   "metadata": {},
   "outputs": [
    {
     "name": "stdout",
     "output_type": "stream",
     "text": [
      "NAVEEN\n"
     ]
    }
   ],
   "source": [
    "print(students[1].upper())"
   ]
  },
  {
   "cell_type": "code",
   "execution_count": null,
   "id": "ec0ace14",
   "metadata": {},
   "outputs": [],
   "source": [
    "#req: I want to access kavitha name in the output........."
   ]
  },
  {
   "cell_type": "code",
   "execution_count": 21,
   "id": "36abc5e0",
   "metadata": {},
   "outputs": [
    {
     "name": "stdout",
     "output_type": "stream",
     "text": [
      "kavitha\n"
     ]
    }
   ],
   "source": [
    "print(students[4])"
   ]
  },
  {
   "cell_type": "code",
   "execution_count": 23,
   "id": "94e0f62a",
   "metadata": {},
   "outputs": [
    {
     "name": "stdout",
     "output_type": "stream",
     "text": [
      "Kavitha\n"
     ]
    }
   ],
   "source": [
    "print(students[4].title())"
   ]
  },
  {
   "cell_type": "code",
   "execution_count": null,
   "id": "4ae33aa0",
   "metadata": {},
   "outputs": [],
   "source": []
  },
  {
   "cell_type": "code",
   "execution_count": null,
   "id": "6b55f0c4",
   "metadata": {},
   "outputs": [],
   "source": [
    "1. how to add new elements to the list....?\n",
    "2. how to modify the elements in the list.....?\n",
    "3. how to delete the elements in the list.....?"
   ]
  },
  {
   "cell_type": "code",
   "execution_count": null,
   "id": "6ae6eddb",
   "metadata": {},
   "outputs": [],
   "source": []
  },
  {
   "cell_type": "code",
   "execution_count": null,
   "id": "e891d5d1",
   "metadata": {},
   "outputs": [],
   "source": [
    "#req : i want to add kumar to the above list.....?"
   ]
  },
  {
   "cell_type": "code",
   "execution_count": 24,
   "id": "d1d99653",
   "metadata": {},
   "outputs": [],
   "source": [
    "students.append('kumar')"
   ]
  },
  {
   "cell_type": "code",
   "execution_count": 25,
   "id": "e1217ada",
   "metadata": {},
   "outputs": [
    {
     "name": "stdout",
     "output_type": "stream",
     "text": [
      "['ravi', 'naveen', 'joseph', 'abdul', 'kavitha', 'roohi', 'kumar']\n"
     ]
    }
   ],
   "source": [
    "print(students)"
   ]
  },
  {
   "cell_type": "code",
   "execution_count": null,
   "id": "8b379729",
   "metadata": {},
   "outputs": [],
   "source": [
    "#req : to add john"
   ]
  },
  {
   "cell_type": "code",
   "execution_count": 26,
   "id": "111c2ef1",
   "metadata": {},
   "outputs": [],
   "source": [
    "students.append('john')"
   ]
  },
  {
   "cell_type": "code",
   "execution_count": 27,
   "id": "e2994c50",
   "metadata": {},
   "outputs": [
    {
     "name": "stdout",
     "output_type": "stream",
     "text": [
      "['ravi', 'naveen', 'joseph', 'abdul', 'kavitha', 'roohi', 'kumar', 'john']\n"
     ]
    }
   ],
   "source": [
    "print(students)"
   ]
  },
  {
   "cell_type": "code",
   "execution_count": null,
   "id": "b61ae6e7",
   "metadata": {},
   "outputs": [],
   "source": []
  },
  {
   "cell_type": "code",
   "execution_count": 28,
   "id": "62e0f9af",
   "metadata": {},
   "outputs": [],
   "source": [
    "#req : i want to add keerthi to the 2nd index position........?"
   ]
  },
  {
   "cell_type": "code",
   "execution_count": 29,
   "id": "e30416db",
   "metadata": {},
   "outputs": [],
   "source": [
    "students.insert(2,'keerthi')"
   ]
  },
  {
   "cell_type": "code",
   "execution_count": 30,
   "id": "16d6db56",
   "metadata": {},
   "outputs": [
    {
     "name": "stdout",
     "output_type": "stream",
     "text": [
      "['ravi', 'naveen', 'keerthi', 'joseph', 'abdul', 'kavitha', 'roohi', 'kumar', 'john']\n"
     ]
    }
   ],
   "source": [
    "print(students)"
   ]
  },
  {
   "cell_type": "code",
   "execution_count": 32,
   "id": "d5d3dec0",
   "metadata": {},
   "outputs": [
    {
     "name": "stdout",
     "output_type": "stream",
     "text": [
      "keerthi\n"
     ]
    }
   ],
   "source": [
    "print(students[2])"
   ]
  },
  {
   "cell_type": "code",
   "execution_count": null,
   "id": "3007689a",
   "metadata": {},
   "outputs": [],
   "source": []
  },
  {
   "cell_type": "code",
   "execution_count": null,
   "id": "730fe866",
   "metadata": {},
   "outputs": [],
   "source": [
    "##Interview question: What is the differnce between append and insert method in a list....?"
   ]
  },
  {
   "cell_type": "code",
   "execution_count": null,
   "id": "eeb345cf",
   "metadata": {},
   "outputs": [],
   "source": []
  },
  {
   "cell_type": "code",
   "execution_count": null,
   "id": "e175b9ae",
   "metadata": {},
   "outputs": [],
   "source": [
    "#How to modify the elements in the list....?"
   ]
  },
  {
   "cell_type": "code",
   "execution_count": 33,
   "id": "c4c39a0c",
   "metadata": {},
   "outputs": [
    {
     "name": "stdout",
     "output_type": "stream",
     "text": [
      "['ravi', 'naveen', 'keerthi', 'joseph', 'abdul', 'kavitha', 'roohi', 'kumar', 'john']\n"
     ]
    }
   ],
   "source": [
    "print(students)"
   ]
  },
  {
   "cell_type": "code",
   "execution_count": null,
   "id": "870068d6",
   "metadata": {},
   "outputs": [],
   "source": [
    "#Req: I want to modify naveen name to jagan"
   ]
  },
  {
   "cell_type": "code",
   "execution_count": 35,
   "id": "488f43af",
   "metadata": {},
   "outputs": [],
   "source": [
    "students[1]= 'jagan'"
   ]
  },
  {
   "cell_type": "code",
   "execution_count": 36,
   "id": "bf1b50ed",
   "metadata": {},
   "outputs": [
    {
     "name": "stdout",
     "output_type": "stream",
     "text": [
      "['ravi', 'jagan', 'keerthi', 'joseph', 'abdul', 'kavitha', 'roohi', 'kumar', 'john']\n"
     ]
    }
   ],
   "source": [
    "print(students)"
   ]
  },
  {
   "cell_type": "code",
   "execution_count": null,
   "id": "5bd6069a",
   "metadata": {},
   "outputs": [],
   "source": []
  },
  {
   "cell_type": "code",
   "execution_count": null,
   "id": "2a870363",
   "metadata": {},
   "outputs": [],
   "source": [
    "#how to delete the elements in the list.....?"
   ]
  },
  {
   "cell_type": "code",
   "execution_count": 38,
   "id": "206f552f",
   "metadata": {},
   "outputs": [
    {
     "name": "stdout",
     "output_type": "stream",
     "text": [
      "['ravi', 'jagan', 'keerthi', 'joseph', 'abdul', 'kavitha', 'roohi', 'kumar', 'john']\n"
     ]
    }
   ],
   "source": [
    "print(students)"
   ]
  },
  {
   "cell_type": "code",
   "execution_count": 39,
   "id": "3da22371",
   "metadata": {},
   "outputs": [],
   "source": [
    "#req : i want to delete ravi from the list"
   ]
  },
  {
   "cell_type": "code",
   "execution_count": null,
   "id": "d6ebb28e",
   "metadata": {},
   "outputs": [],
   "source": []
  },
  {
   "cell_type": "code",
   "execution_count": 43,
   "id": "1a2c59ba",
   "metadata": {},
   "outputs": [],
   "source": [
    "del students[0]"
   ]
  },
  {
   "cell_type": "code",
   "execution_count": 44,
   "id": "1c188f75",
   "metadata": {},
   "outputs": [
    {
     "name": "stdout",
     "output_type": "stream",
     "text": [
      "['keerthi', 'joseph', 'abdul', 'kavitha', 'roohi', 'kumar', 'john']\n"
     ]
    }
   ],
   "source": [
    "print(students)"
   ]
  },
  {
   "cell_type": "code",
   "execution_count": null,
   "id": "e79da2dc",
   "metadata": {},
   "outputs": [],
   "source": []
  },
  {
   "cell_type": "code",
   "execution_count": null,
   "id": "245c2691",
   "metadata": {},
   "outputs": [],
   "source": []
  },
  {
   "cell_type": "code",
   "execution_count": null,
   "id": "4c194849",
   "metadata": {},
   "outputs": [],
   "source": []
  },
  {
   "cell_type": "code",
   "execution_count": null,
   "id": "53688e77",
   "metadata": {},
   "outputs": [],
   "source": []
  },
  {
   "cell_type": "code",
   "execution_count": null,
   "id": "269663a6",
   "metadata": {},
   "outputs": [],
   "source": []
  },
  {
   "cell_type": "code",
   "execution_count": null,
   "id": "a4249657",
   "metadata": {},
   "outputs": [],
   "source": []
  },
  {
   "cell_type": "code",
   "execution_count": null,
   "id": "e8d50c14",
   "metadata": {},
   "outputs": [],
   "source": []
  },
  {
   "cell_type": "code",
   "execution_count": null,
   "id": "daa18d26",
   "metadata": {},
   "outputs": [],
   "source": []
  },
  {
   "cell_type": "code",
   "execution_count": null,
   "id": "b5ae3c1b",
   "metadata": {},
   "outputs": [],
   "source": []
  },
  {
   "cell_type": "code",
   "execution_count": null,
   "id": "20fe70d5",
   "metadata": {},
   "outputs": [],
   "source": []
  },
  {
   "cell_type": "code",
   "execution_count": null,
   "id": "346806fe",
   "metadata": {},
   "outputs": [],
   "source": []
  },
  {
   "cell_type": "code",
   "execution_count": null,
   "id": "ca999019",
   "metadata": {},
   "outputs": [],
   "source": []
  },
  {
   "cell_type": "code",
   "execution_count": null,
   "id": "80e1b7e6",
   "metadata": {},
   "outputs": [],
   "source": []
  },
  {
   "cell_type": "code",
   "execution_count": null,
   "id": "8e6c9b03",
   "metadata": {},
   "outputs": [],
   "source": []
  },
  {
   "cell_type": "code",
   "execution_count": null,
   "id": "917ace36",
   "metadata": {},
   "outputs": [],
   "source": []
  },
  {
   "cell_type": "code",
   "execution_count": null,
   "id": "d162b772",
   "metadata": {},
   "outputs": [],
   "source": []
  },
  {
   "cell_type": "code",
   "execution_count": null,
   "id": "0bd98d06",
   "metadata": {},
   "outputs": [],
   "source": []
  },
  {
   "cell_type": "code",
   "execution_count": null,
   "id": "ca426123",
   "metadata": {},
   "outputs": [],
   "source": []
  },
  {
   "cell_type": "code",
   "execution_count": null,
   "id": "bd2781c2",
   "metadata": {},
   "outputs": [],
   "source": []
  },
  {
   "cell_type": "code",
   "execution_count": null,
   "id": "fe8fce4d",
   "metadata": {},
   "outputs": [],
   "source": []
  },
  {
   "cell_type": "code",
   "execution_count": null,
   "id": "3da49685",
   "metadata": {},
   "outputs": [],
   "source": []
  },
  {
   "cell_type": "code",
   "execution_count": null,
   "id": "2fc6e208",
   "metadata": {},
   "outputs": [],
   "source": []
  },
  {
   "cell_type": "code",
   "execution_count": null,
   "id": "f44181e0",
   "metadata": {},
   "outputs": [],
   "source": []
  },
  {
   "cell_type": "code",
   "execution_count": null,
   "id": "b9a0da96",
   "metadata": {},
   "outputs": [],
   "source": []
  },
  {
   "cell_type": "code",
   "execution_count": null,
   "id": "e1a1698e",
   "metadata": {},
   "outputs": [],
   "source": []
  }
 ],
 "metadata": {
  "kernelspec": {
   "display_name": "Python 3 (ipykernel)",
   "language": "python",
   "name": "python3"
  },
  "language_info": {
   "codemirror_mode": {
    "name": "ipython",
    "version": 3
   },
   "file_extension": ".py",
   "mimetype": "text/x-python",
   "name": "python",
   "nbconvert_exporter": "python",
   "pygments_lexer": "ipython3",
   "version": "3.9.12"
  }
 },
 "nbformat": 4,
 "nbformat_minor": 5
}
