{
 "cells": [
  {
   "cell_type": "code",
   "execution_count": 2,
   "id": "32673f13",
   "metadata": {},
   "outputs": [],
   "source": [
    "introduction to python programming :"
   ]
  },
  {
   "cell_type": "code",
   "execution_count": null,
   "id": "8746a46c",
   "metadata": {},
   "outputs": [],
   "source": []
  },
  {
   "cell_type": "code",
   "execution_count": null,
   "id": "f4ada083",
   "metadata": {},
   "outputs": [],
   "source": [
    "understanding the variables in python :"
   ]
  },
  {
   "cell_type": "code",
   "execution_count": 20,
   "id": "c690e7b6",
   "metadata": {},
   "outputs": [],
   "source": [
    "x = 2"
   ]
  },
  {
   "cell_type": "code",
   "execution_count": 25,
   "id": "2a5a8bbc",
   "metadata": {},
   "outputs": [],
   "source": [
    "y = 6"
   ]
  },
  {
   "cell_type": "code",
   "execution_count": 26,
   "id": "b1dd0322",
   "metadata": {},
   "outputs": [
    {
     "name": "stdout",
     "output_type": "stream",
     "text": [
      "8\n"
     ]
    }
   ],
   "source": [
    "z = x+y\n",
    "\n",
    "print(z)"
   ]
  },
  {
   "cell_type": "code",
   "execution_count": 30,
   "id": "f97d0b18",
   "metadata": {},
   "outputs": [],
   "source": [
    "x = 9"
   ]
  },
  {
   "cell_type": "code",
   "execution_count": 29,
   "id": "4bbd229c",
   "metadata": {},
   "outputs": [
    {
     "name": "stdout",
     "output_type": "stream",
     "text": [
      "15\n"
     ]
    }
   ],
   "source": [
    "z = x+y\n",
    "\n",
    "print(z)"
   ]
  },
  {
   "cell_type": "code",
   "execution_count": 31,
   "id": "202694af",
   "metadata": {},
   "outputs": [],
   "source": [
    "y=10\n",
    "\n",
    "z=x+y"
   ]
  },
  {
   "cell_type": "code",
   "execution_count": 32,
   "id": "ecded5d0",
   "metadata": {},
   "outputs": [
    {
     "name": "stdout",
     "output_type": "stream",
     "text": [
      "19\n"
     ]
    }
   ],
   "source": [
    "print(z)"
   ]
  },
  {
   "cell_type": "code",
   "execution_count": null,
   "id": "215d716a",
   "metadata": {},
   "outputs": [],
   "source": []
  },
  {
   "cell_type": "code",
   "execution_count": null,
   "id": "4dfc5301",
   "metadata": {},
   "outputs": [],
   "source": [
    "rules for declaring the variables :\n",
    "    "
   ]
  },
  {
   "cell_type": "code",
   "execution_count": null,
   "id": "9ac86e1d",
   "metadata": {},
   "outputs": [],
   "source": [
    "#1. Rule no : no name spaces are allowed while declaring the variable name"
   ]
  },
  {
   "cell_type": "code",
   "execution_count": 33,
   "id": "c57b97ef",
   "metadata": {},
   "outputs": [
    {
     "ename": "SyntaxError",
     "evalue": "invalid syntax (4267585226.py, line 1)",
     "output_type": "error",
     "traceback": [
      "\u001b[1;36m  Cell \u001b[1;32mIn [33], line 1\u001b[1;36m\u001b[0m\n\u001b[1;33m    first name=('ikra')\u001b[0m\n\u001b[1;37m          ^\u001b[0m\n\u001b[1;31mSyntaxError\u001b[0m\u001b[1;31m:\u001b[0m invalid syntax\n"
     ]
    }
   ],
   "source": [
    "first name=('ikra')"
   ]
  },
  {
   "cell_type": "code",
   "execution_count": 34,
   "id": "77d04475",
   "metadata": {},
   "outputs": [],
   "source": [
    "firstname=('ikra')"
   ]
  },
  {
   "cell_type": "code",
   "execution_count": 35,
   "id": "45597014",
   "metadata": {},
   "outputs": [
    {
     "name": "stdout",
     "output_type": "stream",
     "text": [
      "ikra\n"
     ]
    }
   ],
   "source": [
    "print(firstname)"
   ]
  },
  {
   "cell_type": "code",
   "execution_count": 38,
   "id": "2c10fd4a",
   "metadata": {},
   "outputs": [],
   "source": [
    "first_name=(\"ikra\")"
   ]
  },
  {
   "cell_type": "code",
   "execution_count": 39,
   "id": "f765b7cc",
   "metadata": {},
   "outputs": [
    {
     "name": "stdout",
     "output_type": "stream",
     "text": [
      "ikra\n"
     ]
    }
   ],
   "source": [
    "print(first_name)"
   ]
  },
  {
   "cell_type": "code",
   "execution_count": null,
   "id": "1f9f0330",
   "metadata": {},
   "outputs": [],
   "source": [
    "#rule no 2: A variable name should not start with a number"
   ]
  },
  {
   "cell_type": "code",
   "execution_count": 40,
   "id": "6689eeaf",
   "metadata": {},
   "outputs": [
    {
     "ename": "SyntaxError",
     "evalue": "invalid decimal literal (617443455.py, line 1)",
     "output_type": "error",
     "traceback": [
      "\u001b[1;36m  Cell \u001b[1;32mIn [40], line 1\u001b[1;36m\u001b[0m\n\u001b[1;33m    1name = \"ravi\"\u001b[0m\n\u001b[1;37m    ^\u001b[0m\n\u001b[1;31mSyntaxError\u001b[0m\u001b[1;31m:\u001b[0m invalid decimal literal\n"
     ]
    }
   ],
   "source": [
    "1name = \"ravi\"\n",
    "print(1name)"
   ]
  },
  {
   "cell_type": "code",
   "execution_count": 41,
   "id": "bcd54f96",
   "metadata": {},
   "outputs": [
    {
     "name": "stdout",
     "output_type": "stream",
     "text": [
      "ravi\n"
     ]
    }
   ],
   "source": [
    "name1=\"ravi\"\n",
    "print(name1)"
   ]
  },
  {
   "cell_type": "code",
   "execution_count": 43,
   "id": "0a86d0c2",
   "metadata": {},
   "outputs": [],
   "source": [
    "#rule no 3 : A variable name should not contain any special characters"
   ]
  },
  {
   "cell_type": "code",
   "execution_count": 44,
   "id": "99053aea",
   "metadata": {},
   "outputs": [
    {
     "ename": "SyntaxError",
     "evalue": "invalid syntax (4134422466.py, line 1)",
     "output_type": "error",
     "traceback": [
      "\u001b[1;36m  Cell \u001b[1;32mIn [44], line 1\u001b[1;36m\u001b[0m\n\u001b[1;33m    name@ = \"alia\"\u001b[0m\n\u001b[1;37m          ^\u001b[0m\n\u001b[1;31mSyntaxError\u001b[0m\u001b[1;31m:\u001b[0m invalid syntax\n"
     ]
    }
   ],
   "source": [
    "name@ = \"alia\"\n",
    "\n",
    "print(name@)"
   ]
  },
  {
   "cell_type": "code",
   "execution_count": null,
   "id": "c667c6b5",
   "metadata": {},
   "outputs": [],
   "source": [
    "#Introduction to Data Types in Python:\n",
    "1. String =========> str\n",
    "2. Numbers ==========> int\n",
    "3. Floats ==============> decimals\n",
    "4. list =======> list\n",
    "5. tuples =======> tuple\n",
    "6. Dictionaries =========> dict"
   ]
  },
  {
   "cell_type": "code",
   "execution_count": null,
   "id": "c2f013ba",
   "metadata": {},
   "outputs": [],
   "source": []
  },
  {
   "cell_type": "code",
   "execution_count": 45,
   "id": "45e4b7dc",
   "metadata": {},
   "outputs": [],
   "source": [
    "#Classification of datatypes:\n",
    "    Broadly datatypes are classifiedbin to two categories :\n",
    "        1. mutable datatypes ========> which we can edit and alter ========> flexible in nature\n",
    "        2. immutable datatypes =========> which we cannot be able to edit or alter =====> fixed in nature"
   ]
  },
  {
   "cell_type": "code",
   "execution_count": null,
   "id": "8e294581",
   "metadata": {},
   "outputs": [],
   "source": []
  },
  {
   "cell_type": "code",
   "execution_count": 46,
   "id": "5145025a",
   "metadata": {},
   "outputs": [],
   "source": [
    "# Introduction to string  data type:\\\n",
    "A string is a series of characters declared in quotes.\n",
    "Classification : it is classified as an immutable datatype ======> fixed\n",
    "    \n",
    "How to declare the string data types ----------->\n",
    "\n",
    "1. Single quotes\n",
    "2. Double quotes\n",
    "3. Triple quotes"
   ]
  },
  {
   "cell_type": "code",
   "execution_count": 47,
   "id": "1c393176",
   "metadata": {},
   "outputs": [
    {
     "name": "stdout",
     "output_type": "stream",
     "text": [
      "john\n"
     ]
    }
   ],
   "source": [
    "name = 'john'\n",
    "print(name)"
   ]
  },
  {
   "cell_type": "code",
   "execution_count": 48,
   "id": "24fc5ed6",
   "metadata": {},
   "outputs": [
    {
     "name": "stdout",
     "output_type": "stream",
     "text": [
      "karthik\n"
     ]
    }
   ],
   "source": [
    "name2 = \"karthik\"\n",
    "print(name2)"
   ]
  },
  {
   "cell_type": "code",
   "execution_count": 49,
   "id": "d4f70a3c",
   "metadata": {},
   "outputs": [
    {
     "name": "stdout",
     "output_type": "stream",
     "text": [
      "tamanna\n"
     ]
    }
   ],
   "source": [
    "name3 = '''tamanna'''\n",
    "print(name3)"
   ]
  },
  {
   "cell_type": "code",
   "execution_count": 50,
   "id": "69c0cde5",
   "metadata": {},
   "outputs": [
    {
     "name": "stdout",
     "output_type": "stream",
     "text": [
      "danish\n"
     ]
    }
   ],
   "source": [
    "name4 = \"\"\"danish\"\"\"\n",
    "print(name4)"
   ]
  },
  {
   "cell_type": "code",
   "execution_count": null,
   "id": "56013626",
   "metadata": {},
   "outputs": [],
   "source": [
    "# Understanding the string methods : "
   ]
  },
  {
   "cell_type": "code",
   "execution_count": 51,
   "id": "c8fef1a8",
   "metadata": {},
   "outputs": [
    {
     "data": {
      "text/plain": [
       "str"
      ]
     },
     "execution_count": 51,
     "metadata": {},
     "output_type": "execute_result"
    }
   ],
   "source": [
    "type(name4)"
   ]
  },
  {
   "cell_type": "code",
   "execution_count": 53,
   "id": "b5bbca77",
   "metadata": {},
   "outputs": [
    {
     "data": {
      "text/plain": [
       "str"
      ]
     },
     "execution_count": 53,
     "metadata": {},
     "output_type": "execute_result"
    }
   ],
   "source": [
    "type(name)"
   ]
  },
  {
   "cell_type": "code",
   "execution_count": 56,
   "id": "19ccde71",
   "metadata": {},
   "outputs": [
    {
     "name": "stdout",
     "output_type": "stream",
     "text": [
      "binay mishra\n"
     ]
    }
   ],
   "source": [
    "fullname = 'binay mishra'\n",
    "print(fullname)"
   ]
  },
  {
   "cell_type": "code",
   "execution_count": 58,
   "id": "e53ab1e1",
   "metadata": {},
   "outputs": [
    {
     "name": "stdout",
     "output_type": "stream",
     "text": [
      "Binay Mishra\n"
     ]
    }
   ],
   "source": [
    "print(fullname.title())"
   ]
  },
  {
   "cell_type": "code",
   "execution_count": null,
   "id": "47d44084",
   "metadata": {},
   "outputs": [],
   "source": [
    "# req : i want the full name in capital letters"
   ]
  },
  {
   "cell_type": "code",
   "execution_count": 59,
   "id": "a0058159",
   "metadata": {},
   "outputs": [
    {
     "name": "stdout",
     "output_type": "stream",
     "text": [
      "BINAY MISHRA\n"
     ]
    }
   ],
   "source": [
    "print(fullname.upper())"
   ]
  },
  {
   "cell_type": "code",
   "execution_count": 60,
   "id": "81b71633",
   "metadata": {},
   "outputs": [
    {
     "name": "stdout",
     "output_type": "stream",
     "text": [
      "binay mishra\n"
     ]
    }
   ],
   "source": [
    "print(fullname)"
   ]
  },
  {
   "cell_type": "code",
   "execution_count": 61,
   "id": "30ea8f3f",
   "metadata": {},
   "outputs": [
    {
     "name": "stdout",
     "output_type": "stream",
     "text": [
      "BINAY MISHRA\n"
     ]
    }
   ],
   "source": [
    "fullname = 'BINAY MISHRA'\n",
    "print(fullname)"
   ]
  },
  {
   "cell_type": "code",
   "execution_count": 62,
   "id": "a83911fe",
   "metadata": {},
   "outputs": [
    {
     "name": "stdout",
     "output_type": "stream",
     "text": [
      "binay mishra\n"
     ]
    }
   ],
   "source": [
    "print(fullname.lower())"
   ]
  },
  {
   "cell_type": "code",
   "execution_count": null,
   "id": "609d9b68",
   "metadata": {},
   "outputs": [],
   "source": []
  }
 ],
 "metadata": {
  "kernelspec": {
   "display_name": "Python 3 (ipykernel)",
   "language": "python",
   "name": "python3"
  },
  "language_info": {
   "codemirror_mode": {
    "name": "ipython",
    "version": 3
   },
   "file_extension": ".py",
   "mimetype": "text/x-python",
   "name": "python",
   "nbconvert_exporter": "python",
   "pygments_lexer": "ipython3",
   "version": "3.10.8"
  }
 },
 "nbformat": 4,
 "nbformat_minor": 5
}
